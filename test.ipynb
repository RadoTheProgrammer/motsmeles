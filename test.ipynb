{
 "cells": [
  {
   "cell_type": "code",
   "execution_count": null,
   "metadata": {},
   "outputs": [],
   "source": [
    "%pip install motsmeles"
   ]
  },
  {
   "cell_type": "code",
   "execution_count": 1,
   "metadata": {},
   "outputs": [],
   "source": [
    "import motsmeles"
   ]
  },
  {
   "cell_type": "code",
   "execution_count": 2,
   "metadata": {},
   "outputs": [],
   "source": [
    "jeu,answers=motsmeles.generate(\n",
    "    [\n",
    "        \"PYTHON\",\n",
    "        \"JAVA\",\n",
    "        \"CPP\",\n",
    "        \"JAVASCRIPT\",\n",
    "        \"HTML\",\n",
    "        \"CSS\",\n",
    "        \"PHP\",\n",
    "        \"RUBY\",\n",
    "        \"SWIFT\",\n",
    "        \"PERL\",\n",
    "        \"RUST\",\n",
    "    ],\n",
    "    dimensionsx =20, \n",
    "    dimensionsy = 20,\n",
    "    allow_reverse=False)"
   ]
  },
  {
   "cell_type": "code",
   "execution_count": 3,
   "metadata": {},
   "outputs": [
    {
     "name": "stdout",
     "output_type": "stream",
     "text": [
      "PRJSJQADCRSFCOZUNIFB\n",
      "BTOKTCMNSSUOEPZCUTLH\n",
      "EOMGACCHCPFLZKGFBFXM\n",
      "YBURUZSBNSUQTJYLUIJI\n",
      "NSFPLXTKONTRSQXGXRXI\n",
      "JCJTTPKWHJLWDHEQPCMU\n",
      "WQENPFZNTVCQZWGMFIXF\n",
      "MKVCJXUDYZTPIRCSAVAJ\n",
      "IMLYEXDJPLWUBKKYLJVE\n",
      "NGMTQMJMNRPSTNWPZMVB\n",
      "RJTEITLAREXDLBGQZPRW\n",
      "CGHMHDWHVPMFHGRMMZHF\n",
      "DWKUXTFUDAYBJFOPFFUP\n",
      "YDZVYSUFKTORKRJIKMOK\n",
      "KYMNPLIFVSLRKRWEMSJG\n",
      "PBXKIDYJEAPLLBKLZQCQ\n",
      "DUFAMUGIROGATWGQRUST\n",
      "FTFIWSSQBOKUTOQZELLV\n",
      "VAIVVGPDPUFJLDUOJEOQ\n",
      "RUJUDATQXBYXXXTUDPNC\n"
     ]
    }
   ],
   "source": [
    "motsmeles.print(jeu)"
   ]
  },
  {
   "cell_type": "code",
   "execution_count": 4,
   "metadata": {},
   "outputs": [
    {
     "data": {
      "text/html": [
       "<div>\n",
       "<style scoped>\n",
       "    .dataframe tbody tr th:only-of-type {\n",
       "        vertical-align: middle;\n",
       "    }\n",
       "\n",
       "    .dataframe tbody tr th {\n",
       "        vertical-align: top;\n",
       "    }\n",
       "\n",
       "    .dataframe thead th {\n",
       "        text-align: right;\n",
       "    }\n",
       "</style>\n",
       "<table border=\"1\" class=\"dataframe\">\n",
       "  <thead>\n",
       "    <tr style=\"text-align: right;\">\n",
       "      <th></th>\n",
       "      <th>mot</th>\n",
       "      <th>sens</th>\n",
       "      <th>x</th>\n",
       "      <th>y</th>\n",
       "      <th>xh</th>\n",
       "      <th>yh</th>\n",
       "    </tr>\n",
       "  </thead>\n",
       "  <tbody>\n",
       "    <tr>\n",
       "      <th>0</th>\n",
       "      <td>PYTHON</td>\n",
       "      <td>b</td>\n",
       "      <td>8</td>\n",
       "      <td>8</td>\n",
       "      <td>8</td>\n",
       "      <td>2</td>\n",
       "    </tr>\n",
       "    <tr>\n",
       "      <th>1</th>\n",
       "      <td>JAVA</td>\n",
       "      <td>hd</td>\n",
       "      <td>6</td>\n",
       "      <td>9</td>\n",
       "      <td>10</td>\n",
       "      <td>13</td>\n",
       "    </tr>\n",
       "    <tr>\n",
       "      <th>2</th>\n",
       "      <td>CPP</td>\n",
       "      <td>bd</td>\n",
       "      <td>3</td>\n",
       "      <td>7</td>\n",
       "      <td>6</td>\n",
       "      <td>4</td>\n",
       "    </tr>\n",
       "    <tr>\n",
       "      <th>3</th>\n",
       "      <td>JAVASCRIPT</td>\n",
       "      <td>g</td>\n",
       "      <td>19</td>\n",
       "      <td>7</td>\n",
       "      <td>9</td>\n",
       "      <td>7</td>\n",
       "    </tr>\n",
       "    <tr>\n",
       "      <th>4</th>\n",
       "      <td>HTML</td>\n",
       "      <td>b</td>\n",
       "      <td>2</td>\n",
       "      <td>11</td>\n",
       "      <td>2</td>\n",
       "      <td>7</td>\n",
       "    </tr>\n",
       "    <tr>\n",
       "      <th>5</th>\n",
       "      <td>CSS</td>\n",
       "      <td>bd</td>\n",
       "      <td>8</td>\n",
       "      <td>2</td>\n",
       "      <td>11</td>\n",
       "      <td>-1</td>\n",
       "    </tr>\n",
       "    <tr>\n",
       "      <th>6</th>\n",
       "      <td>PHP</td>\n",
       "      <td>bg</td>\n",
       "      <td>19</td>\n",
       "      <td>12</td>\n",
       "      <td>16</td>\n",
       "      <td>9</td>\n",
       "    </tr>\n",
       "    <tr>\n",
       "      <th>7</th>\n",
       "      <td>RUBY</td>\n",
       "      <td>g</td>\n",
       "      <td>3</td>\n",
       "      <td>3</td>\n",
       "      <td>-1</td>\n",
       "      <td>3</td>\n",
       "    </tr>\n",
       "    <tr>\n",
       "      <th>8</th>\n",
       "      <td>SWIFT</td>\n",
       "      <td>g</td>\n",
       "      <td>5</td>\n",
       "      <td>17</td>\n",
       "      <td>0</td>\n",
       "      <td>17</td>\n",
       "    </tr>\n",
       "    <tr>\n",
       "      <th>9</th>\n",
       "      <td>PERL</td>\n",
       "      <td>b</td>\n",
       "      <td>9</td>\n",
       "      <td>11</td>\n",
       "      <td>9</td>\n",
       "      <td>7</td>\n",
       "    </tr>\n",
       "    <tr>\n",
       "      <th>10</th>\n",
       "      <td>RUST</td>\n",
       "      <td>d</td>\n",
       "      <td>16</td>\n",
       "      <td>16</td>\n",
       "      <td>20</td>\n",
       "      <td>16</td>\n",
       "    </tr>\n",
       "  </tbody>\n",
       "</table>\n",
       "</div>"
      ],
      "text/plain": [
       "           mot sens   x   y  xh  yh\n",
       "0       PYTHON    b   8   8   8   2\n",
       "1         JAVA   hd   6   9  10  13\n",
       "2          CPP   bd   3   7   6   4\n",
       "3   JAVASCRIPT    g  19   7   9   7\n",
       "4         HTML    b   2  11   2   7\n",
       "5          CSS   bd   8   2  11  -1\n",
       "6          PHP   bg  19  12  16   9\n",
       "7         RUBY    g   3   3  -1   3\n",
       "8        SWIFT    g   5  17   0  17\n",
       "9         PERL    b   9  11   9   7\n",
       "10        RUST    d  16  16  20  16"
      ]
     },
     "execution_count": 4,
     "metadata": {},
     "output_type": "execute_result"
    }
   ],
   "source": [
    "answers"
   ]
  },
  {
   "cell_type": "code",
   "execution_count": 4,
   "metadata": {},
   "outputs": [],
   "source": [
    "motsmeles.save(jeu,\"motsmeles.txt\")"
   ]
  },
  {
   "cell_type": "code",
   "execution_count": 5,
   "metadata": {},
   "outputs": [],
   "source": [
    "motsmeles.save_answers(answers,\"motsmeles.csv\")"
   ]
  }
 ],
 "metadata": {
  "kernelspec": {
   "display_name": "Python 3",
   "language": "python",
   "name": "python3"
  },
  "language_info": {
   "codemirror_mode": {
    "name": "ipython",
    "version": 3
   },
   "file_extension": ".py",
   "mimetype": "text/x-python",
   "name": "python",
   "nbconvert_exporter": "python",
   "pygments_lexer": "ipython3",
   "version": "3.12.2"
  }
 },
 "nbformat": 4,
 "nbformat_minor": 2
}
