{
 "cells": [
  {
   "cell_type": "code",
   "execution_count": 1,
   "metadata": {},
   "outputs": [],
   "source": [
    "import motsmeles"
   ]
  },
  {
   "cell_type": "code",
   "execution_count": 6,
   "metadata": {},
   "outputs": [],
   "source": [
    "jeu,answers=motsmeles.generate(\n",
    "    [\n",
    "        \"PYTHON\",\n",
    "        \"JAVA\",\n",
    "        \"CPP\",\n",
    "        \"JAVASCRIPT\",\n",
    "        \"HTML\",\n",
    "        \"CSS\",\n",
    "        \"PHP\",\n",
    "        \"RUBY\",\n",
    "        \"SWIFT\",\n",
    "        \"PERL\",\n",
    "        \"RUST\",\n",
    "    ],\n",
    "    dimensionsx =10, \n",
    "    dimensionsy = 10)"
   ]
  },
  {
   "cell_type": "code",
   "execution_count": 3,
   "metadata": {},
   "outputs": [
    {
     "name": "stdout",
     "output_type": "stream",
     "text": [
      "QVRPTMOVAIABPFHKKICH\n",
      "EBOSWXGEEQFVIEPZNQET\n",
      "HUBTZXQZDODOBORKLUAF\n",
      "GSZFHAKFHHERCROLXBUS\n",
      "JBRGAIWBKSUAWJAIQEBV\n",
      "TWETPIRCSAVAJPXRUUHB\n",
      "XTUQXOGUINRBKIDUZOSP\n",
      "CPPMGSSZFNKIGNMWUCFU\n",
      "LBYQGQEUMIKXGDOPIGMT\n",
      "UTCCUQSKTOWGOQQHJJTD\n",
      "ENYQTXPCLSSCCJEWPHPA\n",
      "OHQHFOBUAXAESZRBPTPO\n",
      "HBXLISMUOAVSZXPYTHON\n",
      "TSTDWRFDLIAZDHZNPRYT\n",
      "MHRRSRRXLOJWGSLVOQFU\n",
      "LLQREUQXIMQWBQCCVQMT\n",
      "QZUZWBKHWOOPMOCPDBEA\n",
      "USKTKYOFFZDBBSBFUCIP\n",
      "TXMFBDHRSHOCWLCMNBVD\n",
      "JRCKJVULXNLLQBNJMPUH\n"
     ]
    }
   ],
   "source": [
    "motsmeles.print(jeu)"
   ]
  },
  {
   "cell_type": "code",
   "execution_count": 4,
   "metadata": {},
   "outputs": [],
   "source": [
    "motsmeles.save(jeu,\"motsmeles.txt\")"
   ]
  }
 ],
 "metadata": {
  "kernelspec": {
   "display_name": "Python 3",
   "language": "python",
   "name": "python3"
  },
  "language_info": {
   "codemirror_mode": {
    "name": "ipython",
    "version": 3
   },
   "file_extension": ".py",
   "mimetype": "text/x-python",
   "name": "python",
   "nbconvert_exporter": "python",
   "pygments_lexer": "ipython3",
   "version": "3.12.2"
  }
 },
 "nbformat": 4,
 "nbformat_minor": 2
}
