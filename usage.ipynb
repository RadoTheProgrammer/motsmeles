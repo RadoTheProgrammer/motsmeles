{
 "cells": [
  {
   "cell_type": "code",
   "execution_count": 12,
   "metadata": {},
   "outputs": [],
   "source": [
    "from motsmeles import generateur"
   ]
  },
  {
   "cell_type": "code",
   "execution_count": 13,
   "metadata": {},
   "outputs": [],
   "source": [
    "letters,answers=generateur.generate([\n",
    "    \"PYTHON\",\n",
    "    \"JAVA\",\n",
    "    \"CPP\",\n",
    "    \"JAVASCRIPT\",\n",
    "    \"HTML\",\n",
    "    \"CSS\",\n",
    "    \"PHP\",\n",
    "    \"RUBY\",\n",
    "    \"SWIFT\",\n",
    "    \"PERL\",\n",
    "    \"RUST\",\n",
    "])"
   ]
  },
  {
   "cell_type": "code",
   "execution_count": 14,
   "metadata": {},
   "outputs": [
    {
     "data": {
      "text/plain": [
       "array([['O', 'B', 'Q', 'C', 'W', 'O', 'H', 'G', 'A', 'O', 'M', 'I', 'B',\n",
       "        'T', 'I', 'B', 'E', 'G', 'U', 'V'],\n",
       "       ['L', 'Y', 'M', 'Q', 'R', 'Q', 'O', 'S', 'S', 'W', 'G', 'Q', 'L',\n",
       "        'C', 'R', 'L', 'N', 'T', 'J', 'W'],\n",
       "       ['D', 'S', 'J', 'T', 'P', 'S', 'Y', 'B', 'V', 'B', 'A', 'B', 'L',\n",
       "        'Q', 'E', 'N', 'M', 'I', 'G', 'O'],\n",
       "       ['C', 'F', 'L', 'R', 'W', 'F', 'X', 'M', 'A', 'K', 'V', 'L', 'B',\n",
       "        'S', 'A', 'V', 'J', 'A', 'M', 'P'],\n",
       "       ['L', 'F', 'U', 'R', 'J', 'U', 'T', 'J', 'J', 'A', 'T', 'N', '',\n",
       "        '', '', '', '', '', '', ''],\n",
       "       ['M', 'J', 'W', 'M', 'K', 'S', 'V', 'T', 'O', 'U', 'P', 'D', 'C',\n",
       "        'C', 'R', 'Q', 'L', '', '', ''],\n",
       "       ['U', 'G', 'U', 'J', 'I', 'T', 'X', 'U', 'P', 'P', 'F', 'R', 'A',\n",
       "        'L', 'R', 'O', 'L', 'G', 'X', 'V'],\n",
       "       ['L', '', '', '', '', '', '', '', '', '', '', '', '', '', '', '',\n",
       "        '', '', '', ''],\n",
       "       ['D', 'Y', 'B', 'G', 'E', 'P', 'R', 'O', 'O', 'E', 'U', 'S', 'C',\n",
       "        'T', '', '', '', '', '', ''],\n",
       "       ['U', 'V', 'M', 'S', 'R', 'A', 'F', 'M', 'L', 'O', 'J', 'U', 'N',\n",
       "        'V', 'F', 'P', 'N', 'Q', 'T', ''],\n",
       "       ['P', 'D', 'J', 'Y', 'P', 'X', 'V', 'K', 'S', 'Q', 'Q', 'X', 'B',\n",
       "        'M', 'G', 'T', 'H', 'O', 'W', 'I'],\n",
       "       ['X', 'O', 'A', 'B', 'B', 'E', 'Q', 'N', 'D', 'F', 'R', 'X', 'T',\n",
       "        'Y', 'J', 'B', 'O', 'L', 'B', 'A'],\n",
       "       ['Y', 'Z', 'P', '', '', '', '', '', '', '', '', '', '', '', '',\n",
       "        '', '', '', '', ''],\n",
       "       ['Y', '', '', '', '', '', '', '', '', '', '', '', '', '', '', '',\n",
       "        '', '', '', ''],\n",
       "       ['F', 'R', 'G', 'Q', 'Z', 'X', 'I', 'E', 'U', 'M', 'D', 'U', 'W',\n",
       "        'N', 'L', 'I', 'B', 'X', 'T', 'P'],\n",
       "       ['C', 'K', 'F', 'S', '', '', 'T', '', '', '', '', '', '', '', '',\n",
       "        '', '', '', '', ''],\n",
       "       ['G', 'G', 'R', 'D', 'D', 'A', '', '', '', '', '', '', '', '', '',\n",
       "        '', '', '', '', ''],\n",
       "       ['G', 'J', 'B', 'V', 'L', 'R', 'Z', 'Q', 'O', 'Y', 'A', 'N', 'N',\n",
       "        'B', 'L', 'B', 'H', 'K', 'I', 'C'],\n",
       "       ['R', 'O', 'O', 'F', 'I', 'C', 'P', 'E', 'H', 'K', 'U', 'S', 'S',\n",
       "        'S', 'P', 'B', 'F', 'X', 'U', 'Q'],\n",
       "       ['J', 'D', 'W', 'W', 'A', 'T', 'K', 'J', 'A', 'T', 'I', 'I', 'N',\n",
       "        'B', 'G', 'P', 'C', 'C', 'V', 'B']], dtype='<U1')"
      ]
     },
     "execution_count": 14,
     "metadata": {},
     "output_type": "execute_result"
    }
   ],
   "source": [
    "letters"
   ]
  }
 ],
 "metadata": {
  "kernelspec": {
   "display_name": "Python 3",
   "language": "python",
   "name": "python3"
  },
  "language_info": {
   "codemirror_mode": {
    "name": "ipython",
    "version": 3
   },
   "file_extension": ".py",
   "mimetype": "text/x-python",
   "name": "python",
   "nbconvert_exporter": "python",
   "pygments_lexer": "ipython3",
   "version": "3.12.2"
  }
 },
 "nbformat": 4,
 "nbformat_minor": 2
}
