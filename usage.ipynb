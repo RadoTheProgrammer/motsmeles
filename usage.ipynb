{
 "cells": [
  {
   "cell_type": "code",
   "execution_count": 1,
   "metadata": {},
   "outputs": [],
   "source": [
    "from motsmeles import generateur"
   ]
  },
  {
   "cell_type": "code",
   "execution_count": 2,
   "metadata": {},
   "outputs": [],
   "source": [
    "letters,answers=generateur.generate([\n",
    "    \"PYTHON\",\n",
    "    \"JAVA\",\n",
    "    \"CPP\",\n",
    "    \"JAVASCRIPT\",\n",
    "    \"HTML\",\n",
    "    \"CSS\",\n",
    "    \"PHP\",\n",
    "    \"RUBY\",\n",
    "    \"SWIFT\",\n",
    "    \"PERL\",\n",
    "    \"RUST\",\n",
    "])"
   ]
  },
  {
   "cell_type": "code",
   "execution_count": 4,
   "metadata": {},
   "outputs": [
    {
     "name": "stdout",
     "output_type": "stream",
     "text": [
      "[['B' 'N' 'E' 'G' 'S' 'W' 'X' 'G' 'T' '' '' '' '' '' '' '' '' '' '' '']\n",
      " ['W' 'L' 'U' 'B' 'I' 'E' 'H' 'A' 'M' 'V' 'Y' 'L' '' '' '' '' '' '' '' '']\n",
      " ['L' '' '' '' '' '' '' 'S' '' '' '' '' '' '' '' '' '' '' '' '']\n",
      " ['V' 'I' 'J' 'D' 'X' 'Q' 'N' 'A' 'I' 'Y' 'N' 'B' 'T' 'O' 'J' 'J' 'M' 'A'\n",
      "  'A' 'C']\n",
      " ['H' 'J' 'D' 'U' 'N' 'I' 'T' 'G' 'Q' 'G' 'V' 'V' 'T' '' '' '' 'T' '' ''\n",
      "  '']\n",
      " ['U' 'Q' 'D' 'L' 'C' 'P' 'H' 'I' 'C' 'A' 'J' 'O' 'X' 'F' 'E' 'X' 'E' 'R'\n",
      "  'E' 'B']\n",
      " ['W' 'K' 'L' 'B' 'G' 'D' 'G' 'G' 'P' 'M' 'G' 'Z' 'S' 'J' 'R' 'J' 'W' 'J'\n",
      "  'D' 'U']\n",
      " ['W' 'B' 'S' 'X' 'C' 'V' 'P' 'V' 'J' 'H' 'Y' 'Y' 'K' 'Z' 'E' 'H' 'D' 'T'\n",
      "  'O' 'Q']\n",
      " ['Y' 'T' 'S' 'E' 'G' 'C' 'T' 'M' 'G' 'M' 'A' 'X' 'R' 'Q' 'B' 'G' 'R' 'S'\n",
      "  'E' 'I']\n",
      " ['R' 'D' 'C' 'S' 'H' 'E' 'J' 'P' 'W' 'D' 'N' 'D' 'D' 'J' 'I' 'Y' 'T' 'A'\n",
      "  'E' 'V']\n",
      " ['A' 'K' 'I' 'S' 'Y' 'Y' 'I' 'A' 'W' 'V' 'F' 'Q' 'V' 'K' 'E' 'C' 'J' 'X'\n",
      "  'P' 'A']\n",
      " ['K' 'O' 'F' 'N' 'B' 'R' 'W' 'V' 'K' 'N' 'U' 'D' 'Z' 'G' 'Z' 'R' 'F' 'O'\n",
      "  'C' 'Q']\n",
      " ['H' 'P' 'E' 'N' 'P' '' '' '' '' '' '' '' '' '' '' '' '' '' '' '']\n",
      " ['J' 'G' 'N' 'W' 'W' 'T' 'E' 'E' 'A' 'H' 'R' 'B' 'L' 'X' 'J' 'Q' 'B' 'E'\n",
      "  'W' 'W']\n",
      " ['J' 'Q' 'I' 'M' 'B' 'T' 'N' 'O' 'C' 'P' '' 'N' '' '' '' '' '' '' '' '']\n",
      " ['I' 'Y' 'N' 'R' 'I' 'Y' 'F' 'B' 'A' 'H' 'P' 'A' 'Z' 'I' 'U' 'G' 'C' 'M'\n",
      "  'R' 'A']\n",
      " ['Y' 'J' 'V' 'K' 'N' 'O' 'Q' 'E' 'D' 'Y' 'U' 'S' 'K' 'F' 'E' 'P' 'J' 'K'\n",
      "  'F' 'Q']\n",
      " ['B' 'A' 'E' 'Z' 'I' 'K' 'Q' 'R' 'R' 'I' 'O' 'A' 'M' 'O' 'M' 'E' 'P' 'Y'\n",
      "  'E' 'S']\n",
      " ['N' 'B' 'X' 'B' 'Y' 'G' 'L' 'L' 'R' 'A' '' '' '' '' '' '' '' '' '' '']\n",
      " ['P' 'T' 'W' 'Y' 'D' 'Q' 'G' 'X' 'K' 'Q' 'B' 'L' 'T' 'R' 'H' 'G' 'D' 'N'\n",
      "  'N' 'W']]\n"
     ]
    }
   ],
   "source": [
    "print(letters)"
   ]
  },
  {
   "cell_type": "code",
   "execution_count": 6,
   "metadata": {},
   "outputs": [
    {
     "data": {
      "text/plain": [
       "[2, 3]"
      ]
     },
     "execution_count": 6,
     "metadata": {},
     "output_type": "execute_result"
    }
   ],
   "source": [
    "common_objects = list(set(list1).intersection(list2))\n",
    "common_objects\n"
   ]
  },
  {
   "cell_type": "code",
   "execution_count": 9,
   "metadata": {},
   "outputs": [
    {
     "name": "stdout",
     "output_type": "stream",
     "text": [
      "{'a', 'c'}\n"
     ]
    }
   ],
   "source": [
    "set1 = {\"b\", \"d\"}\n",
    "set2 = {\"a\", \"c\"}\n",
    "combined_set = set1 | set2\n",
    "print(combined_set)"
   ]
  }
 ],
 "metadata": {
  "kernelspec": {
   "display_name": "Python 3",
   "language": "python",
   "name": "python3"
  },
  "language_info": {
   "codemirror_mode": {
    "name": "ipython",
    "version": 3
   },
   "file_extension": ".py",
   "mimetype": "text/x-python",
   "name": "python",
   "nbconvert_exporter": "python",
   "pygments_lexer": "ipython3",
   "version": "3.12.2"
  }
 },
 "nbformat": 4,
 "nbformat_minor": 2
}
