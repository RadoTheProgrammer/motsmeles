{
 "cells": [
  {
   "cell_type": "code",
   "execution_count": null,
   "metadata": {},
   "outputs": [],
   "source": [
    "%pip install motsmeles"
   ]
  },
  {
   "cell_type": "code",
   "execution_count": 1,
   "metadata": {},
   "outputs": [],
   "source": [
    "import motsmeles"
   ]
  },
  {
   "cell_type": "code",
   "execution_count": 2,
   "metadata": {},
   "outputs": [],
   "source": [
    "jeu,answers=motsmeles.generate(\n",
    "    [\n",
    "        \"PYTHON\",\n",
    "        \"JAVA\",\n",
    "        \"CPP\",\n",
    "        \"JAVASCRIPT\",\n",
    "        \"HTML\",\n",
    "        \"CSS\",\n",
    "        \"PHP\",\n",
    "        \"RUBY\",\n",
    "        \"SWIFT\",\n",
    "        \"PERL\",\n",
    "        \"RUST\",\n",
    "    ],\n",
    "    dimensionsx =20, \n",
    "    dimensionsy = 20)"
   ]
  },
  {
   "cell_type": "code",
   "execution_count": 3,
   "metadata": {},
   "outputs": [
    {
     "name": "stdout",
     "output_type": "stream",
     "text": [
      "WHVPSFYBURVGWEMRQWNC\n",
      "SZWINOGZNXMUHVRHOSDP\n",
      "GQCCJHKWAUYQLARDTHTC\n",
      "JGZXHKKEKPJWGJEPPNNO\n",
      "IPTOIOSAEPKDJSIYNXON\n",
      "NXTYZYWSRCOLLRTFEIRD\n",
      "ZPOXABWDCNTYCHFCQDCP\n",
      "ZINXXTGGMXSSOPTERGXR\n",
      "SHPJUITJIKANYNYWTYPY\n",
      "TUARHFANNVDIAGKNFKAS\n",
      "NDDTIRGQAFABYFVFVJXT\n",
      "LGMWIPTJZKGHTYZQVCXE\n",
      "DLSJXKHHUMWYEBHAZKVB\n",
      "ZAAABHEPSMONXRNJBOWM\n",
      "IVTTSZKXYFHOTSURNKNC\n",
      "ALMCWAGCELTXLIPUYNSZ\n",
      "NSJZILUNMAJRKRVFUBHK\n",
      "FFQYHROYQQFORSEJGYHV\n",
      "VZMSSLEHVAIDCYAPIFKN\n",
      "DFTUCBAVETDXMFOVGDMT\n"
     ]
    }
   ],
   "source": [
    "motsmeles.print(jeu)"
   ]
  },
  {
   "cell_type": "code",
   "execution_count": 4,
   "metadata": {},
   "outputs": [],
   "source": [
    "motsmeles.save(jeu,\"motsmeles.txt\")"
   ]
  },
  {
   "cell_type": "code",
   "execution_count": 5,
   "metadata": {},
   "outputs": [],
   "source": [
    "motsmeles.save_answers(answers,\"motsmeles.csv\")"
   ]
  }
 ],
 "metadata": {
  "kernelspec": {
   "display_name": "Python 3",
   "language": "python",
   "name": "python3"
  },
  "language_info": {
   "codemirror_mode": {
    "name": "ipython",
    "version": 3
   },
   "file_extension": ".py",
   "mimetype": "text/x-python",
   "name": "python",
   "nbconvert_exporter": "python",
   "pygments_lexer": "ipython3",
   "version": "3.12.2"
  }
 },
 "nbformat": 4,
 "nbformat_minor": 2
}
